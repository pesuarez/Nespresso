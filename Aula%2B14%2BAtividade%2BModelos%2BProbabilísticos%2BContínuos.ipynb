{
 "cells": [
  {
   "cell_type": "markdown",
   "metadata": {},
   "source": [
    "___\n",
    "# Atividade: Modelos probabilísticos contínuos e Dados\n",
    "___\n",
    "\n",
    "## Aula 14\n",
    "\n",
    "**Preparo Prévio:**\n",
    "1. Leitura prévia necessária: Magalhães e Lima (7ª. Edição): Modelo Normal (pág. 197 a 201).\n",
    "2. Executar o arquivo `Aula13 Modelos probabilísticos contínuos.ipynb`\n",
    "3. Leitura prévia necessária: Magalhães e Lima (7ª. Edição): Gráfico de quantis ou QQplot (pág. 27 - Exemplo 1.10 e 1.11).\n",
    "4. Leitura prévia necessária: Magalhães e Lima (7ª. Edição): Gráfico de probabilidade (similar ao gráfico QQplot) (pág. 201 a 204) - Exemplo 6.10).\n",
    "\n",
    "**Hoje:**\n",
    "1. Reforçar mais ferramentas para Análise Descritiva\n",
    "2. Avaliar, descritivamente, adequação da normal aos dados.\n",
    "3. Contrastar resultados teóricos e empíricos.\n",
    "\n",
    "\n",
    "**Próxima aula:**\n",
    "1.\tLeitura prévia necessária: Magalhães e Lima (7ª. Edição): Seção 5.1 (pág. 137) e Seção 5.2 (pág. 146).\n",
    "___"
   ]
  },
  {
   "cell_type": "markdown",
   "metadata": {},
   "source": [
    "___\n",
    "## <font color='blue'>Padaria </font>\n",
    "\n",
    "Uma empresa deve decidir onde construir uma padaria: <font color='green'>Bairro A </font> ou <font color='orange'> Bairro B </font>. \n",
    "\n",
    "Como ambos os bairros possuem densidades populacionais próximas, os investidores visam atingir um público alvo de maior renda familiar. \n",
    "Assim, quanto maior o número de famílias com rendas familiares mais altas, maior será a chance do empreendimento ser bem sucedido. \n",
    "\n",
    "Considerando que a decisão final seja baseada em informações sobre a renda familiar dos moradores desses dois bairros, responda:\n",
    "\n",
    "1. Calcule algumas medidas resumo úteis para entender o comportamento dessa variável em ambos os bairros. Analise.\n",
    "\n",
    "2. Construa o histograma dos dados e compare as distribuições de renda familiar (em mil reais) dos dois bairros. Qual é o melhor bairro para construir a padaria? Justifique.\n",
    "\n",
    "3. Construa o QQ-Plot considerando quantil amostral do Bairro A vs quantil amostral do Bairro B. Esse gráfico de quantis amostrais auxilia a responder qual é o melhor bairro para construir a padaria? Justifique claramente.\n",
    "   Dica: veja construção desse gráfico no Magalhães e Lima (7ª edição) - pág. 27 e 29.\n",
    "\n",
    "4. Assuma que $X$: renda familiar de um determinado bairro tenha $\\mu$ estimada pela média amostral ($\\bar{x}$) e tenha $\\sigma^2$ estimada pela variância amostral, ambas de um mesmo bairro em questão. Verifique, visualmente/graficamente, se a distribuição normal é adequada para estimar a renda familiar de cada bairro. Para isso, interprete os seguintes gráficos:\n",
    "      1. Construa o histograma dos dados junto com a fdp da distribuição normal e analise.\n",
    "      \n",
    "      2. Construa o Gráfico de probabilidade considerando o quantil amostral vs o quantil teórico da distribuição normal. Interprete esse gráfico com intuito de avaliar se: A renda de cada bairro é bem modelada por uma distribuição normal?\n",
    "      Dica: veja Exemplo 6.8 do Magalhães e Lima (7ª. edição) de como obter as frequências relativas acumuladas a partir de uma amostra de tamanho n=500 (de cada bairro). Os quantis teóricos da distribuição normal podem ser obtidos pelo comando `stats.norm.ppf(p, loc=mu, scale=sigma)`, sendo `p` a frequencia relativa acumulada  obtida anteriormente.\n",
    "      \n",
    "      3. Construa um gráfico dos valores observados vs frequência relativa acumulada (a partir dos dados) e vs função de distribuição acumulada.\n",
    "   \n",
    "5. Independente da sua resposta do item anterior, assuma que $X$: renda familiar de um determinado bairro segue uma distribuição normal considerando as estimativas amostrais como valores dos parâmetros de cada bairro. Nesse caso, para cada bairro, calcule:\n",
    "      1. probabilidade de uma família possuir renda familiar maior do que 17 mil reais.\n",
    "\n",
    "      2. sabendo que a famíliar tem mais do que 15 mil reais de renda familiar, qual a probabilidade dessa possuir renda inferior a 16 mil reais.\n",
    "      \n",
    "      3. qual a menor renda familiar dos 5% das famílias que mais ganham em cada bairro? \n",
    "\n"
   ]
  },
  {
   "cell_type": "code",
   "execution_count": 2,
   "metadata": {},
   "outputs": [
    {
     "name": "stdout",
     "output_type": "stream",
     "text": [
      "Esperamos trabalhar no diretório\n",
      "/Users/gabiuas/Ciencia dos Dados/Aula14\n"
     ]
    }
   ],
   "source": [
    "%matplotlib inline\n",
    "\n",
    "import os\n",
    "import matplotlib.pyplot as plt\n",
    "import pandas as pd\n",
    "from scipy import stats\n",
    "from numpy import mean, var, arange\n",
    "import numpy as np\n",
    "from scipy import stats\n",
    "import matplotlib.pyplot as plt\n",
    "from scipy.stats import expon\n",
    "\n",
    "\n",
    "print('Esperamos trabalhar no diretório')\n",
    "print(os.getcwd())"
   ]
  },
  {
   "cell_type": "code",
   "execution_count": 3,
   "metadata": {
    "collapsed": true
   },
   "outputs": [],
   "source": [
    "%matplotlib inline\n",
    "import matplotlib.pyplot as plt\n",
    "import numpy as np\n",
    "from scipy.stats import *\n",
    "import math\n",
    "\n",
    "n = 10000"
   ]
  },
  {
   "cell_type": "code",
   "execution_count": 4,
   "metadata": {},
   "outputs": [
    {
     "name": "stdout",
     "output_type": "stream",
     "text": [
      "Esperamos trabalhar no diretório\n",
      "/Users/gabiuas/Ciencia dos Dados/Aula14\n"
     ]
    }
   ],
   "source": [
    "%matplotlib inline\n",
    "\n",
    "import os\n",
    "import matplotlib.pyplot as plt\n",
    "import pandas as pd\n",
    "from scipy import stats\n",
    "from numpy import mean, var\n",
    "\n",
    "print('Esperamos trabalhar no diretório')\n",
    "print(os.getcwd())"
   ]
  },
  {
   "cell_type": "code",
   "execution_count": 5,
   "metadata": {},
   "outputs": [
    {
     "data": {
      "text/plain": [
       "['Regiões', 'Plan1']"
      ]
     },
     "execution_count": 5,
     "metadata": {},
     "output_type": "execute_result"
    }
   ],
   "source": [
    "xl=pd.ExcelFile(\"Padaria.xlsx\")\n",
    "xl.sheet_names\n",
    "[u'Regiões', u'Plan1']"
   ]
  },
  {
   "cell_type": "code",
   "execution_count": 6,
   "metadata": {
    "collapsed": true
   },
   "outputs": [],
   "source": [
    "R = xl.parse(\"Regiões\")\n",
    "P = xl.parse(\"Plan1\")"
   ]
  },
  {
   "cell_type": "code",
   "execution_count": 7,
   "metadata": {},
   "outputs": [
    {
     "data": {
      "text/html": [
       "<div>\n",
       "<table border=\"1\" class=\"dataframe\">\n",
       "  <thead>\n",
       "    <tr style=\"text-align: right;\">\n",
       "      <th></th>\n",
       "      <th>A</th>\n",
       "      <th>B</th>\n",
       "    </tr>\n",
       "  </thead>\n",
       "  <tbody>\n",
       "    <tr>\n",
       "      <th>count</th>\n",
       "      <td>500.000000</td>\n",
       "      <td>500.000000</td>\n",
       "    </tr>\n",
       "    <tr>\n",
       "      <th>mean</th>\n",
       "      <td>15.321676</td>\n",
       "      <td>14.221997</td>\n",
       "    </tr>\n",
       "    <tr>\n",
       "      <th>std</th>\n",
       "      <td>0.592599</td>\n",
       "      <td>1.840182</td>\n",
       "    </tr>\n",
       "    <tr>\n",
       "      <th>min</th>\n",
       "      <td>13.450880</td>\n",
       "      <td>9.704160</td>\n",
       "    </tr>\n",
       "    <tr>\n",
       "      <th>25%</th>\n",
       "      <td>14.919380</td>\n",
       "      <td>12.843832</td>\n",
       "    </tr>\n",
       "    <tr>\n",
       "      <th>50%</th>\n",
       "      <td>15.335840</td>\n",
       "      <td>14.348205</td>\n",
       "    </tr>\n",
       "    <tr>\n",
       "      <th>75%</th>\n",
       "      <td>15.702140</td>\n",
       "      <td>15.770295</td>\n",
       "    </tr>\n",
       "    <tr>\n",
       "      <th>max</th>\n",
       "      <td>17.151280</td>\n",
       "      <td>18.911520</td>\n",
       "    </tr>\n",
       "  </tbody>\n",
       "</table>\n",
       "</div>"
      ],
      "text/plain": [
       "                A           B\n",
       "count  500.000000  500.000000\n",
       "mean    15.321676   14.221997\n",
       "std      0.592599    1.840182\n",
       "min     13.450880    9.704160\n",
       "25%     14.919380   12.843832\n",
       "50%     15.335840   14.348205\n",
       "75%     15.702140   15.770295\n",
       "max     17.151280   18.911520"
      ]
     },
     "execution_count": 7,
     "metadata": {},
     "output_type": "execute_result"
    }
   ],
   "source": [
    "R.describe()"
   ]
  },
  {
   "cell_type": "code",
   "execution_count": 45,
   "metadata": {
    "collapsed": true
   },
   "outputs": [],
   "source": [
    "rendaA = R['A']\n",
    "rendaB = R['B']"
   ]
  },
  {
   "cell_type": "code",
   "execution_count": 46,
   "metadata": {
    "collapsed": true
   },
   "outputs": [],
   "source": [
    "faixa = arange(9,20,1)\n",
    "media=15.321676\n",
    "despa=0.592599\n",
    "loc = media\n",
    "scale = despa"
   ]
  },
  {
   "cell_type": "code",
   "execution_count": 47,
   "metadata": {},
   "outputs": [
    {
     "data": {
      "text/plain": [
       "<matplotlib.axes._subplots.AxesSubplot at 0x119216518>"
      ]
     },
     "execution_count": 47,
     "metadata": {},
     "output_type": "execute_result"
    },
    {
     "data": {
      "image/png": "[encoded data removed]",
      "text/plain": [
       "<matplotlib.figure.Figure at 0x119110470>"
      ]
     },
     "metadata": {},
     "output_type": "display_data"
    }
   ],
   "source": [
    "rendaA.plot.hist(bins=faixa,title='HISTOGRAMA - Renda A',figsize=(6, 4),normed=True, alpha=0.5)"
   ]
  },
  {
   "cell_type": "code",
   "execution_count": 13,
   "metadata": {
    "collapsed": true
   },
   "outputs": [],
   "source": [
    "media=14.221997\n",
    "despa=1.840182\n",
    "loc = media\n",
    "scale = despa"
   ]
  },
  {
   "cell_type": "code",
   "execution_count": 14,
   "metadata": {},
   "outputs": [
    {
     "data": {
      "text/plain": [
       "<matplotlib.axes._subplots.AxesSubplot at 0x116b3f160>"
      ]
     },
     "execution_count": 14,
     "metadata": {},
     "output_type": "execute_result"
    },
    {
     "data": {
      "image/png": "[encoded data removed]",
      "text/plain": [
       "<matplotlib.figure.Figure at 0x116b8c438>"
      ]
     },
     "metadata": {},
     "output_type": "display_data"
    }
   ],
   "source": [
    "rendaB.plot.hist(bins=faixa,title='HISTOGRAMA - Renda A',figsize=(6, 4),normed=True, alpha=0.5)"
   ]
  },
  {
   "cell_type": "code",
   "execution_count": 15,
   "metadata": {},
   "outputs": [
    {
     "data": {
      "text/plain": [
       "[<matplotlib.lines.Line2D at 0x1169765f8>]"
      ]
     },
     "execution_count": 15,
     "metadata": {},
     "output_type": "execute_result"
    },
    {
     "data": {
      "image/png": "[encoded data removed]",
      "text/plain": [
       "<matplotlib.figure.Figure at 0x116976390>"
      ]
     },
     "metadata": {},
     "output_type": "display_data"
    }
   ],
   "source": [
    "media=15.321676\n",
    "despa=0.592599\n",
    "mi=13.450880\n",
    "ma=17.151280\n",
    "\n",
    "I=[]\n",
    "A1=[]\n",
    "A2=[]\n",
    "\n",
    "for i in arange (mi,ma,0.01):\n",
    "    I.append(i)\n",
    "for i in arange(0,1.01,0.01):\n",
    "    \n",
    "    #Teórico\n",
    "    a = stats.norm.ppf(i, loc=media, scale=despa)\n",
    "    A1.append(a)\n",
    "    \n",
    "    \n",
    "    #Dados\n",
    "    a = rendaA.quantile(i)\n",
    "    A2.append(a)\n",
    "    \n",
    "    \n",
    "   \n",
    "plt.plot(A1,A2,'ro')\n",
    "plt.plot(I,I,'b')"
   ]
  },
  {
   "cell_type": "code",
   "execution_count": 16,
   "metadata": {},
   "outputs": [
    {
     "data": {
      "text/plain": [
       "[<matplotlib.lines.Line2D at 0x116eaa9e8>]"
      ]
     },
     "execution_count": 16,
     "metadata": {},
     "output_type": "execute_result"
    },
    {
     "data": {
      "image/png": "[encoded data removed]",
      "text/plain": [
       "<matplotlib.figure.Figure at 0x116eaa978>"
      ]
     },
     "metadata": {},
     "output_type": "display_data"
    }
   ],
   "source": [
    "media=14.221997\n",
    "despa=1.840182\n",
    "mi=9.704160\n",
    "ma=18.911520\n",
    "\n",
    "B1=[]\n",
    "B2=[]\n",
    "\n",
    "for i in arange (mi,ma,0.01):\n",
    "    I.append(i)\n",
    "\n",
    "for i in arange(0,1.01,0.01):\n",
    "    \n",
    "    #Teórico\n",
    "    b = stats.norm.ppf(i, loc=media, scale=despa)\n",
    "    B1.append(b)\n",
    "    \n",
    "    \n",
    "    #Dados\n",
    "    b = rendaB.quantile(i)\n",
    "    B2.append(b)\n",
    "    \n",
    "    \n",
    "   \n",
    "plt.plot(B1,B2,'bo')\n",
    "plt.plot(I,I,'r')"
   ]
  },
  {
   "cell_type": "code",
   "execution_count": 17,
   "metadata": {},
   "outputs": [
    {
     "data": {
      "text/plain": [
       "[<matplotlib.lines.Line2D at 0x116ed57f0>]"
      ]
     },
     "execution_count": 17,
     "metadata": {},
     "output_type": "execute_result"
    },
    {
     "data": {
      "image/png": "[encoded data removed]",
      "text/plain": [
       "<matplotlib.figure.Figure at 0x116b7c080>"
      ]
     },
     "metadata": {},
     "output_type": "display_data"
    }
   ],
   "source": [
    "media=14.221997\n",
    "despa=1.840182\n",
    "mi=8\n",
    "ma=20\n",
    "\n",
    "A=[]\n",
    "B=[]\n",
    "\n",
    "for i in arange (mi,ma,0.01):\n",
    "    I.append(i)\n",
    "\n",
    "for i in arange(0,1.01,0.01):\n",
    "    \n",
    "    #Teórico\n",
    "    b = rendaA.quantile(i)\n",
    "    A.append(b)\n",
    "    \n",
    "    \n",
    "    #Dados\n",
    "    b = rendaB.quantile(i)\n",
    "    B.append(b)\n",
    "    \n",
    "    \n",
    "   \n",
    "plt.plot(A,B,'bo')\n",
    "plt.plot(I,I,'r')"
   ]
  },
  {
   "cell_type": "code",
   "execution_count": 20,
   "metadata": {
    "collapsed": true
   },
   "outputs": [],
   "source": [
    "faixa = arange(9,20,1)\n",
    "media=15.321676\n",
    "despa=0.592599\n",
    "loc = media\n",
    "scale = despa"
   ]
  },
  {
   "cell_type": "code",
   "execution_count": 21,
   "metadata": {},
   "outputs": [
    {
     "data": {
      "text/plain": [
       "[<matplotlib.lines.Line2D at 0x11734a320>]"
      ]
     },
     "execution_count": 21,
     "metadata": {},
     "output_type": "execute_result"
    },
    {
     "data": {
      "image/png": "[encoded data removed]",
      "text/plain": [
       "<matplotlib.figure.Figure at 0x1173439e8>"
      ]
     },
     "metadata": {},
     "output_type": "display_data"
    }
   ],
   "source": [
    "rendaA.plot.hist(bins=faixa,title='HISTOGRAMA - Renda A',figsize=(6, 4),normed=True, alpha=0.5)\n",
    "a = np.arange(rendaA.min(), rendaA.max(), 0.1)\n",
    "plt.plot(a, norm.pdf(a, loc, scale))"
   ]
  },
  {
   "cell_type": "code",
   "execution_count": 22,
   "metadata": {
    "collapsed": true
   },
   "outputs": [],
   "source": [
    "media=14.221997\n",
    "despa=1.840182\n",
    "loc = media\n",
    "scale = despa"
   ]
  },
  {
   "cell_type": "code",
   "execution_count": 23,
   "metadata": {},
   "outputs": [
    {
     "data": {
      "text/plain": [
       "[<matplotlib.lines.Line2D at 0x11725ea58>]"
      ]
     },
     "execution_count": 23,
     "metadata": {},
     "output_type": "execute_result"
    },
    {
     "data": {
      "image/png": "[encoded data removed]",
      "text/plain": [
       "<matplotlib.figure.Figure at 0x117365b00>"
      ]
     },
     "metadata": {},
     "output_type": "display_data"
    }
   ],
   "source": [
    "rendaB.plot.hist(bins=faixa,title='HISTOGRAMA - Renda A',figsize=(6, 4),normed=True, alpha=0.5)\n",
    "b = np.arange(rendaB.min(), rendaB.max(), 0.1)\n",
    "plt.plot(b, norm.pdf(b, loc, scale))"
   ]
  },
  {
   "cell_type": "code",
   "execution_count": 60,
   "metadata": {},
   "outputs": [
    {
     "data": {
      "text/plain": [
       "[<matplotlib.lines.Line2D at 0x119f5d4a8>]"
      ]
     },
     "execution_count": 60,
     "metadata": {},
     "output_type": "execute_result"
    },
    {
     "data": {
      "image/png": "[encoded data removed]",
      "text/plain": [
       "<matplotlib.figure.Figure at 0x119f5d6d8>"
      ]
     },
     "metadata": {},
     "output_type": "display_data"
    }
   ],
   "source": [
    "faixa = arange(9,20,1)\n",
    "media=15.321676\n",
    "despa=0.592599\n",
    "loc = media\n",
    "scale = despa\n",
    "\n",
    "a = np.arange(rendaA.min(), rendaA.max(), 0.1)\n",
    "plt.plot(a, norm.cdf(a, loc, scale))\n",
    "\n",
    "Ac=[]\n",
    "\n",
    "\n",
    "for e in rendaA:\n",
    "    a = (stats.norm.cdf(e, loc=media, scale=despa))\n",
    "    Ac.append(a)\n",
    "    \n",
    "    \n",
    "plt.plot(rendaA, Ac, 'go', lw=2)"
   ]
  },
  {
   "cell_type": "code",
   "execution_count": 59,
   "metadata": {},
   "outputs": [
    {
     "data": {
      "text/plain": [
       "[<matplotlib.lines.Line2D at 0x119fd1fd0>]"
      ]
     },
     "execution_count": 59,
     "metadata": {},
     "output_type": "execute_result"
    },
    {
     "data": {
      "image/png": "[encoded data removed]",
      "text/plain": [
       "<matplotlib.figure.Figure at 0x119f4bcf8>"
      ]
     },
     "metadata": {},
     "output_type": "display_data"
    }
   ],
   "source": [
    "media=14.221997\n",
    "despa=1.840182\n",
    "loc = media\n",
    "scale = despa\n",
    "\n",
    "Bc=[]\n",
    "\n",
    "b = np.arange(rendaB.min(), rendaB.max(), 0.1)\n",
    "plt.plot(b, norm.cdf(b, loc, scale))\n",
    "\n",
    "for e in rendaB:\n",
    "    B = (stats.norm.cdf(e, loc=media, scale=despa))\n",
    "    Bc.append(B)\n",
    "    \n",
    "    \n",
    "plt.plot(rendaB, Bc, 'ro', lw=2)"
   ]
  },
  {
   "cell_type": "code",
   "execution_count": 66,
   "metadata": {},
   "outputs": [
    {
     "name": "stdout",
     "output_type": "stream",
     "text": [
      "[nan, nan, nan, nan, nan, nan, nan, nan, nan, nan, nan, nan, nan, nan, nan, nan, nan, nan, nan, nan, nan, nan, nan, nan, nan, nan, nan, nan, nan, nan, nan, nan, nan, nan, nan, nan, nan, nan, nan, nan, nan, nan, nan, nan, nan, nan, nan, nan, nan, nan, nan, nan, nan, nan, nan, nan, nan, nan, nan, nan, nan, nan, nan, nan, nan, nan, nan, nan, nan, nan, nan, nan, nan, nan, nan, nan, nan, nan, nan, nan, nan, nan, nan, nan, nan, nan, nan, nan, nan, nan, nan, nan, nan, nan, nan, nan, nan, nan, nan, nan, nan, nan, nan, nan, nan, nan, nan, nan, nan, nan, nan, nan, nan, nan, nan, nan, nan, nan, nan, nan, nan, nan, nan, nan, nan, nan, nan, nan, nan, nan, nan, nan, nan, nan, nan, nan, nan, nan, nan, nan, nan, nan, nan, nan, nan, nan, nan, nan, nan, nan, nan, nan, nan, nan, nan, nan, nan, nan, nan, nan, nan, nan, nan, nan, nan, nan, nan, nan, nan, nan, nan, nan, nan, nan, nan, nan, nan, nan, nan, nan, nan, nan, nan, nan, nan, nan, nan, nan, nan, nan, nan, nan, nan, nan, nan, nan, nan, nan, nan, nan, nan, nan, nan, nan, nan, nan, nan, nan, nan, nan, nan, nan, nan, nan, nan, nan, nan, nan, nan, nan, nan, nan, nan, nan, nan, nan, nan, nan, nan, nan, nan, nan, nan, nan, nan, nan, nan, nan, nan, nan, nan, nan, nan, nan, nan, nan, nan, nan, nan, nan, nan, nan, nan, nan, nan, nan, nan, nan, nan, nan, nan, nan, nan, nan, nan, nan, nan, nan, nan, nan, nan, nan, nan, nan, nan, nan, nan, nan, nan, nan, nan, nan, nan, nan, nan, nan, nan, nan, nan, nan, nan, nan, nan, nan, nan, nan, nan, nan, nan, nan, nan, nan, nan, nan, nan, nan, nan, nan, nan, nan, nan, nan, nan, nan, nan, nan, nan, nan, nan, nan, nan, nan, nan, nan, nan, nan, nan, nan, nan, nan, nan, nan, nan, nan, nan, nan, nan, nan, nan, nan, nan, nan, nan, nan, nan, nan, nan, nan, nan, nan, nan, nan, nan, nan, nan, nan, nan, nan, nan, nan, nan, nan, nan, nan, nan, nan, nan, nan, nan, nan, nan, nan, nan, nan, nan, nan, nan, nan, nan, nan, nan, nan, nan, nan, nan, nan, nan, nan, nan, nan, nan, nan, nan, nan, nan, nan, nan, nan, nan, nan, nan, nan, nan, nan, nan, nan, nan, nan, nan, nan, nan, nan, nan, nan, nan, nan, nan, nan, nan, nan, nan, nan, nan, nan, nan, nan, nan, nan, nan, nan, nan, nan, nan, nan, nan, nan, nan, nan, nan, nan, nan, nan, nan, nan, nan, nan, nan, nan, nan, nan, nan, nan, nan, nan, nan, nan, nan, nan, nan, nan, nan, nan, nan, nan, nan, nan, nan, nan, nan, nan, nan, nan, nan, nan, nan, nan, nan, nan, nan, nan, nan, nan, nan, nan, nan, nan, nan, nan, nan, nan, nan, nan, nan, nan, nan, nan, nan, nan, nan, nan]\n"
     ]
    },
    {
     "data": {
      "image/png": "[encoded data removed]",
      "text/plain": [
       "<matplotlib.figure.Figure at 0x11a0b22b0>"
      ]
     },
     "metadata": {},
     "output_type": "display_data"
    }
   ],
   "source": [
    "qtA = [] #quantil teórico\n",
    "qtB = []\n",
    "for p in rendaA:\n",
    "    qtA.append(stats.norm.ppf(p, loc=media, scale=despa))\n",
    "    qtB.append(stats.norm.ppf(p, loc=media, scale=despa)) \n",
    "    \n",
    "plt.plot(qtA,rendaA)\n",
    "print()"
   ]
  },
  {
   "cell_type": "code",
   "execution_count": null,
   "metadata": {
    "collapsed": true
   },
   "outputs": [],
   "source": []
  }
 ],
 "metadata": {
  "anaconda-cloud": {},
  "kernelspec": {
   "display_name": "Python 3",
   "language": "python",
   "name": "python3"
  },
  "language_info": {
   "codemirror_mode": {
    "name": "ipython",
    "version": 3
   },
   "file_extension": ".py",
   "mimetype": "text/x-python",
   "name": "python",
   "nbconvert_exporter": "python",
   "pygments_lexer": "ipython3",
   "version": "3.6.0"
  }
 },
 "nbformat": 4,
 "nbformat_minor": 1
}
