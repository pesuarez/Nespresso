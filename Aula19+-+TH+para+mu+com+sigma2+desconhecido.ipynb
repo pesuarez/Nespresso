{
 "cells": [
  {
   "cell_type": "markdown",
   "metadata": {},
   "source": [
    " ___\n",
    "# Atividade: TH para $\\mu$ com $\\sigma^2$ desconhecida\n",
    "___\n",
    "\n",
    "## Aula 19\n",
    "\n",
    "**Preparo Prévio:**\n",
    "1. Magalhães e Lima, seção 8.2. Final. Erro do tipo beta e função poder\n",
    "1. Magalhães e Lima, seção 8.3. Testes com variância desconhecida\n",
    "1. Montogmery. Seção 4-4.2 - Erro tipo 2 e tamanho de amostra\n",
    "1. Montogmery. Seção 4-5 - Inferência com variância desconhecida\n",
    "\n",
    "**Hoje:**\n",
    "1. Expandir o Teste de Hipóteses para situações com $\\sigma^2$ desconhecida\n",
    "\n",
    "**Próxima aula:**\n",
    "1. Magalhães e Lima, seção 7.4. Concentrar-se em intervalo de confiança para média amostra\n",
    "1. Bootstrapping - https://www.thoughtco.com/example-of-bootstrapping-3126155\n",
    "1. Bootstrapping - https://www.stat.auckland.ac.nz/~wild/BootAnim/\n",
    "___"
   ]
  },
  {
   "cell_type": "code",
   "execution_count": 2,
   "metadata": {
    "collapsed": true
   },
   "outputs": [],
   "source": [
    "%matplotlib inline\n",
    "%reset -f\n",
    "\n",
    "from __future__ import print_function\n",
    "from ipywidgets import interact, interactive, fixed, interact_manual\n",
    "import ipywidgets as widgets\n",
    "\n",
    "import matplotlib.pyplot as plt\n",
    "import pandas as pd\n",
    "import numpy as np\n",
    "from scipy import stats"
   ]
  },
  {
   "cell_type": "markdown",
   "metadata": {},
   "source": [
    "# Simulação 1 - Teórico vs Amostral: #\n",
    "\n",
    "1. Repita 10000 vezes:\n",
    "    1. Gerar 10 números aleatórios com distribuição $N(0,1)$\n",
    "    1. Calcular o desvio padrão usando std() e adicionar na lista L1.\n",
    "    1. Calcular o desvio padrão usando std(ddof=1) e adicionar na lista L2.\n",
    "1. Calcule as médias de L1 e L2. Compare."
   ]
  },
  {
   "cell_type": "code",
   "execution_count": 3,
   "metadata": {},
   "outputs": [
    {
     "name": "stdout",
     "output_type": "stream",
     "text": [
      "0.927154191962\n",
      "0.977306329591\n"
     ]
    }
   ],
   "source": [
    "L1 = []\n",
    "L2 = []\n",
    "for i in range(10000):\n",
    "    X = stats.norm.rvs(loc=0, scale=1, size=10)\n",
    "    L1.append(X.std())\n",
    "    L2.append(X.std(ddof=1))\n",
    "print(np.mean(L1))\n",
    "print(np.mean(L2))"
   ]
  },
  {
   "cell_type": "markdown",
   "metadata": {},
   "source": [
    "___\n",
    "# Simulação 2 - Normal vs T-Student #"
   ]
  },
  {
   "cell_type": "code",
   "execution_count": 4,
   "metadata": {
    "slideshow": {
     "slide_type": "notes"
    }
   },
   "outputs": [
    {
     "data": {
      "image/png": "[encoded data removed]",
      "text/plain": [
       "<matplotlib.figure.Figure at 0x1161f0c50>"
      ]
     },
     "metadata": {},
     "output_type": "display_data"
    }
   ],
   "source": [
    "#Se não visualizar o pywidgets:\n",
    "#conda install -c conda-forge ipywidgets\n",
    "\n",
    "#Função que utiliza o pywidget\n",
    "@interact(graus_lib = (1, 32, 1))\n",
    "def f(graus_lib = 1):\n",
    "    \n",
    "    #Prints\n",
    "    fig = plt.figure(figsize=(10,4))\n",
    "    \n",
    "    ax1 = fig.add_subplot(121)\n",
    "    ax2 = fig.add_subplot(122)\n",
    "    \n",
    "    #Fit e print da pdf\n",
    "    x = np.arange(-5, 5, 0.01)\n",
    "    ax1.plot(x, stats.norm.pdf(x, loc=0, scale=1))\n",
    "    ax1.plot(x, stats.t.pdf(x, df=graus_lib, loc=0, scale=1))\n",
    "    ax1.legend(['Normal', 'T-Student'])\n",
    "    \n",
    "    #QQ-Plot\n",
    "    stats.probplot(stats.t.ppf(np.arange(0.01, 1, 0.01), df=graus_lib), dist=stats.norm, sparams=(0, 1), plot=ax2)\n",
    "    \n",
    "    "
   ]
  },
  {
   "cell_type": "markdown",
   "metadata": {},
   "source": [
    "___\n",
    "# Exercício 1 #\n",
    "\n",
    "Realizar o teste de hipóteses no problema dos resistores novamente, mas considerando o desvio padrão desconhecido."
   ]
  },
  {
   "cell_type": "code",
   "execution_count": 5,
   "metadata": {
    "collapsed": true
   },
   "outputs": [],
   "source": [
    "n=36\n",
    "mu=350\n",
    "s=10.5\n",
    "loc=mu\n",
    "scale=s/(n**(1/2))"
   ]
  },
  {
   "cell_type": "code",
   "execution_count": 6,
   "metadata": {},
   "outputs": [
    {
     "name": "stdout",
     "output_type": "stream",
     "text": [
      "346.447311126\n"
     ]
    }
   ],
   "source": [
    "#Bicaldal\n",
    "a = stats.t.ppf(0.025,n-1,loc,scale)\n",
    "print(a)"
   ]
  },
  {
   "cell_type": "code",
   "execution_count": 7,
   "metadata": {},
   "outputs": [
    {
     "name": "stdout",
     "output_type": "stream",
     "text": [
      "353.552688874\n"
     ]
    }
   ],
   "source": [
    "a = stats.t.ppf(0.975,n-1,loc,scale)\n",
    "print(a)"
   ]
  },
  {
   "cell_type": "code",
   "execution_count": 8,
   "metadata": {},
   "outputs": [
    {
     "name": "stdout",
     "output_type": "stream",
     "text": [
      "346.447311126\n"
     ]
    }
   ],
   "source": [
    "#Unicaldal\n",
    "a = stats.t.ppf(0.025,n-1,loc,scale)\n",
    "print(a)\n"
   ]
  },
  {
   "cell_type": "code",
   "execution_count": 9,
   "metadata": {},
   "outputs": [
    {
     "name": "stdout",
     "output_type": "stream",
     "text": [
      "5.00000003927\n"
     ]
    }
   ],
   "source": [
    "a = stats.t.cdf(347.043248206,n-1,loc,scale)\n",
    "print(a*100)"
   ]
  },
  {
   "cell_type": "code",
   "execution_count": 10,
   "metadata": {},
   "outputs": [
    {
     "name": "stdout",
     "output_type": "stream",
     "text": [
      "4.76601586859\n"
     ]
    }
   ],
   "source": [
    "b = stats.t.cdf(347,n-1,loc,scale)\n",
    "print(b*100)"
   ]
  },
  {
   "cell_type": "code",
   "execution_count": 11,
   "metadata": {},
   "outputs": [
    {
     "name": "stdout",
     "output_type": "stream",
     "text": [
      "0.233984170677\n"
     ]
    }
   ],
   "source": [
    "print(a*100-b*100)"
   ]
  },
  {
   "cell_type": "markdown",
   "metadata": {},
   "source": [
    "# Definição Beta\n",
    "Quando você diz que não tem problema mas na realidade tem problema.\n",
    "Você não rejeita H0 mas ele é falso.\n",
    "Quanto mais longe o x/ estiver do linear da região crítica menor a probabilidade de cometer esse erro.\n"
   ]
  },
  {
   "cell_type": "markdown",
   "metadata": {},
   "source": [
    "___\n",
    "# Exercício 2 #\n",
    "\n",
    "Realizar o teste de hipóteses no problema do refrigerante, conforme apontado nos slides da Aula."
   ]
  },
  {
   "cell_type": "code",
   "execution_count": null,
   "metadata": {
    "collapsed": true
   },
   "outputs": [],
   "source": []
  }
 ],
 "metadata": {
  "kernelspec": {
   "display_name": "Python 3",
   "language": "python",
   "name": "python3"
  },
  "language_info": {
   "codemirror_mode": {
    "name": "ipython",
    "version": 3
   },
   "file_extension": ".py",
   "mimetype": "text/x-python",
   "name": "python",
   "nbconvert_exporter": "python",
   "pygments_lexer": "ipython3",
   "version": "3.6.0"
  },
  "widgets": {
   "state": {
    "16dc5d46b35c465aa4ae06c5287d0000": {
     "views": [
      {
       "cell_index": 5
      }
     ]
    }
   },
   "version": "1.2.0"
  }
 },
 "nbformat": 4,
 "nbformat_minor": 1
}
