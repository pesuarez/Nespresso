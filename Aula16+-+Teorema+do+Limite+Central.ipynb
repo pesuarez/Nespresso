{
 "cells": [
  {
   "cell_type": "markdown",
   "metadata": {},
   "source": [
    " ___\n",
    "# Atividade: Teorema do Limite Central \n",
    "___\n",
    "\n",
    "## Aula 16\n",
    "\n",
    "**Preparo Prévio:**\n",
    "1. Magalhães e Lima (7ª. Edição): Seção 7.3 (págs 238 a 244).\n",
    "\n",
    "**Hoje:**\n",
    "1. Compreender o Teorema do Limite Central.\n",
    "\n",
    "\n",
    "**Próxima aula:**\n",
    "1.\tLeitura prévia necessária: Magalhães e Lima (7ª. Edição): Cap. 8 (págs 259 a 273).\n",
    "___"
   ]
  },
  {
   "cell_type": "code",
   "execution_count": 7,
   "metadata": {
    "collapsed": true
   },
   "outputs": [],
   "source": [
    "%matplotlib inline\n",
    "%reset -f\n",
    "\n",
    "from __future__ import print_function\n",
    "from ipywidgets import interact, interactive, fixed, interact_manual\n",
    "import ipywidgets as widgets\n",
    "\n",
    "import matplotlib.pyplot as plt\n",
    "import pandas as pd\n",
    "import numpy as np\n",
    "from scipy import stats"
   ]
  },
  {
   "cell_type": "markdown",
   "metadata": {},
   "source": [
    "# Exemplo 1: #\n",
    "\n",
    "Um Professor de Ciência dos Dados resolve fazer uma avaliação diferente com os alunos. O aluno irá jogar uma moeda justa 1000 vezes. Cada vez que sair CARA o aluno ganha nota DEZ, cada vez que sair COROA o aluno ganha nota ZERO. Ao final calcula-se a média das notas.\n",
    "\n",
    "a) Faça uma simulação de 1000 jogadas da moeda, calcule a média e o desvio padrão da variável. Usar **stats.randint** para simular as jogadas. "
   ]
  },
  {
   "cell_type": "code",
   "execution_count": 8,
   "metadata": {},
   "outputs": [
    {
     "data": {
      "text/plain": [
       "0     510\n",
       "10    490\n",
       "dtype: int64"
      ]
     },
     "execution_count": 8,
     "metadata": {},
     "output_type": "execute_result"
    }
   ],
   "source": [
    "jogadas=stats.randint.rvs(0,2,size=1000)\n",
    "jogadas *= 10\n",
    "nota=pd.Series(jogadas).value_counts()\n",
    "nota"
   ]
  },
  {
   "cell_type": "markdown",
   "metadata": {},
   "source": [
    "b) Faça o **gráfico de barras** da variável. usar o **value_counts()** do Pandas para gerar esse gráfico."
   ]
  },
  {
   "cell_type": "code",
   "execution_count": 9,
   "metadata": {},
   "outputs": [
    {
     "data": {
      "text/plain": [
       "<matplotlib.axes._subplots.AxesSubplot at 0x112e2b4a8>"
      ]
     },
     "execution_count": 9,
     "metadata": {},
     "output_type": "execute_result"
    },
    {
     "data": {
      "image/png": "[encoded data removed]",
      "text/plain": [
       "<matplotlib.figure.Figure at 0x112e49320>"
      ]
     },
     "metadata": {},
     "output_type": "display_data"
    }
   ],
   "source": [
    "nota.plot(kind = \"bar\")"
   ]
  },
  {
   "cell_type": "markdown",
   "metadata": {},
   "source": [
    "Agora simule a média da sala de aula com os 120 alunos das 3 turmas.\n",
    "\n",
    "Se $\\bar{X}$ é média da sala (NÃO confundir com a média do aluno $\\mu_X$) , então:\n",
    "$$\\bar{X} = \\frac{X_1+X_2+...+X_n}{n} = \\frac{\\sum_{i=1}^n X_i}{n}$$\n",
    "\n",
    "onde n = 120 alunos.\n",
    "\n",
    "c) Faça o histograma de $\\bar{X}$. Lembre-se da aula passada."
   ]
  },
  {
   "cell_type": "code",
   "execution_count": 10,
   "metadata": {},
   "outputs": [
    {
     "data": {
      "image/png": "[encoded data removed]",
      "text/plain": [
       "<matplotlib.figure.Figure at 0x112e99b70>"
      ]
     },
     "metadata": {},
     "output_type": "display_data"
    }
   ],
   "source": [
    "E=[]\n",
    "for e in range(120):\n",
    "    jogadas=stats.randint.rvs(low=0,high=2,size=1000)\n",
    "    jogadas *= 10\n",
    "    nota=pd.Series(jogadas)\n",
    "    soma=0\n",
    "    for i in nota:\n",
    "        soma+=i  \n",
    "    media=soma/len(nota)\n",
    "    E.append(media)\n",
    "        \n",
    "    \n",
    "\n",
    "plt.hist(sorted(E),normed=True,bins=10)\n",
    "plt.show()"
   ]
  },
  {
   "cell_type": "markdown",
   "metadata": {},
   "source": [
    "d) Calcule a média e o desvio padrão de Y.    "
   ]
  },
  {
   "cell_type": "code",
   "execution_count": 25,
   "metadata": {},
   "outputs": [
    {
     "name": "stdout",
     "output_type": "stream",
     "text": [
      "Essa é a média 4.996583333333334\n",
      "\n",
      "Essa é o sigma 0.16255509749688635\n"
     ]
    }
   ],
   "source": [
    "media=np.mean(E)\n",
    "print('Essa é a média {}'.format(media))\n",
    "print()\n",
    "\n",
    "\n",
    "sigma=np.std(E)\n",
    "print('Essa é o sigma {}'.format(sigma))\n"
   ]
  },
  {
   "cell_type": "markdown",
   "metadata": {},
   "source": [
    "e) O que você pode dizer sobre a distribuição de Y? Faça o fit da normal e plote o pdf sobre o histograma."
   ]
  },
  {
   "cell_type": "code",
   "execution_count": null,
   "metadata": {
    "collapsed": true
   },
   "outputs": [],
   "source": []
  },
  {
   "cell_type": "markdown",
   "metadata": {},
   "source": [
    "# Teorema do Limite Central #\n",
    "\n",
    "Dado $X_i$ uma variável aleatória iid (independente e identicamente distribuída) de uma distribuição qualquer, tem-se que:\n",
    "\n",
    "$$\\bar{X}=\\frac{X_1+X_2+...+X_n}{n}=\\frac{\\sum_{i=1}^n X_i}{n} \\sim N\\left(\\mu_X,\\frac{\\sigma_X^2}{n}\\right)$$\n",
    "\n",
    "Quando n for suficientemente grande.\n",
    "\n",
    "Em alguns casos específicos, pode-se considerar $X_i$ com distribuições diferentes ou com certa dependência entre elas.\n"
   ]
  },
  {
   "cell_type": "code",
   "execution_count": 8,
   "metadata": {
    "slideshow": {
     "slide_type": "notes"
    }
   },
   "outputs": [
    {
     "data": {
      "text/plain": [
       "'Média Amostral: 0.01, Desvio Padrão Amostral: 0.28\\n'"
      ]
     },
     "metadata": {},
     "output_type": "display_data"
    },
    {
     "data": {
      "image/png": "[encoded data removed]",
      "text/plain": [
       "<matplotlib.figure.Figure at 0x113312b70>"
      ]
     },
     "metadata": {},
     "output_type": "display_data"
    }
   ],
   "source": [
    "# %load TLC.py\n",
    "func = {'norm': stats.norm, 'expon': stats.expon, 'uniform': stats.uniform, 't': stats.t, \n",
    "        'chi2': stats.chi2, 'f': stats.f, 'gamma': stats.gamma, 'beta': stats.beta}\n",
    "\n",
    "#Se não visualizar o pywidgets:\n",
    "#conda install -c conda-forge ipywidgets\n",
    "\n",
    "#Função que utiliza o pywidget\n",
    "@interact(n = (1, 20, 1), distribuição = sorted(list(func.keys())))\n",
    "def f(distribuição = 'norm', n = 1):\n",
    "    \n",
    "    size = 1000\n",
    "    loc = 0\n",
    "    scale = 1\n",
    "    \n",
    "    arg = {'loc': loc, 'scale': scale, 'size': size}\n",
    "    \n",
    "    #Cada distribuição tem seu conjunto de parâmetros específicos\n",
    "    if distribuição == 't':\n",
    "        arg['df'] = 5\n",
    "    elif distribuição == 'chi2':\n",
    "        arg['df'] = 5\n",
    "    elif distribuição == 'f':\n",
    "        arg['dfn'] = 5\n",
    "        arg['dfd'] = 7\n",
    "    elif distribuição == 'gamma':\n",
    "        arg['a'] = 1\n",
    "    elif distribuição == 'beta':\n",
    "        arg['a'] = 0.5\n",
    "        arg['b'] = 0.5\n",
    "    \n",
    "    #Gerar n vetores de 1000 amostras cada\n",
    "    Xb = func[distribuição].rvs(**arg)\n",
    "    for i in range(n-1):\n",
    "        Xb += func[distribuição].rvs(**arg)\n",
    "        \n",
    "    #Calcular a média\n",
    "    Xb = Xb / n\n",
    "    \n",
    "    #Prints\n",
    "    fig = plt.figure(figsize=(10,4))\n",
    "    \n",
    "    ax1 = fig.add_subplot(121)\n",
    "    ax2 = fig.add_subplot(122)\n",
    "    \n",
    "    #Histograma\n",
    "    pd.Series(Xb).hist(normed=True, ax=ax1)\n",
    "    \n",
    "    #Fit e print da pdf\n",
    "    (mu, sigma) = stats.norm.fit(Xb)\n",
    "    x = np.arange(Xb.min(), Xb.max(), 0.01)\n",
    "    ax1.plot(x, stats.norm.pdf(x, loc = mu, scale=sigma))\n",
    "    \n",
    "    #QQ-Plot\n",
    "    stats.probplot(Xb, dist=stats.norm, sparams=(mu, sigma), plot=ax2)\n",
    "    \n",
    "    return \"Média Amostral: {0:0.2f}, Desvio Padrão Amostral: {1:0.2f}\\n\".format(Xb.mean(),Xb.std())"
   ]
  },
  {
   "cell_type": "code",
   "execution_count": null,
   "metadata": {
    "collapsed": true
   },
   "outputs": [],
   "source": []
  }
 ],
 "metadata": {
  "kernelspec": {
   "display_name": "Python 3",
   "language": "python",
   "name": "python3"
  },
  "language_info": {
   "codemirror_mode": {
    "name": "ipython",
    "version": 3
   },
   "file_extension": ".py",
   "mimetype": "text/x-python",
   "name": "python",
   "nbconvert_exporter": "python",
   "pygments_lexer": "ipython3",
   "version": "3.6.0"
  }
 },
 "nbformat": 4,
 "nbformat_minor": 1
}
