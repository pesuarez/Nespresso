{
 "cells": [
  {
   "cell_type": "code",
   "execution_count": 12,
   "metadata": {
    "collapsed": true
   },
   "outputs": [],
   "source": [
    "import os\n",
    "from scipy import stats\n",
    "import numpy as np\n",
    "import math"
   ]
  },
  {
   "cell_type": "code",
   "execution_count": 3,
   "metadata": {},
   "outputs": [
    {
     "name": "stdout",
     "output_type": "stream",
     "text": [
      "347.121506153\n"
     ]
    }
   ],
   "source": [
    "mu=350\n",
    "sigma=1.75\n",
    "alfa=((stats.norm.ppf(0.05, loc=mu, scale=sigma)))\n",
    "print(alfa)"
   ]
  },
  {
   "cell_type": "code",
   "execution_count": 4,
   "metadata": {},
   "outputs": [
    {
     "name": "stdout",
     "output_type": "stream",
     "text": [
      "4.32381327468\n"
     ]
    }
   ],
   "source": [
    "alfa=((stats.norm.cdf(347, loc=mu, scale=sigma)))\n",
    "print(alfa*100)"
   ]
  },
  {
   "cell_type": "code",
   "execution_count": 10,
   "metadata": {},
   "outputs": [
    {
     "name": "stdout",
     "output_type": "stream",
     "text": [
      "7.79353681919e-43\n"
     ]
    }
   ],
   "source": [
    "mu=4\n",
    "sigma=.2/(49**(1/2))\n",
    "alfa=((stats.norm.cdf(3.6, loc=mu, scale=sigma)))\n",
    "print(alfa*100)"
   ]
  },
  {
   "cell_type": "code",
   "execution_count": 6,
   "metadata": {},
   "outputs": [
    {
     "name": "stdout",
     "output_type": "stream",
     "text": [
      "3.99608368184\n"
     ]
    }
   ],
   "source": [
    "alfa=((stats.norm.ppf(0.05, loc=mu, scale=sigma)))\n",
    "print(alfa)"
   ]
  },
  {
   "cell_type": "code",
   "execution_count": null,
   "metadata": {
    "collapsed": true
   },
   "outputs": [],
   "source": []
  }
 ],
 "metadata": {
  "kernelspec": {
   "display_name": "Python 3",
   "language": "python",
   "name": "python3"
  },
  "language_info": {
   "codemirror_mode": {
    "name": "ipython",
    "version": 3
   },
   "file_extension": ".py",
   "mimetype": "text/x-python",
   "name": "python",
   "nbconvert_exporter": "python",
   "pygments_lexer": "ipython3",
   "version": "3.6.0"
  }
 },
 "nbformat": 4,
 "nbformat_minor": 2
}
