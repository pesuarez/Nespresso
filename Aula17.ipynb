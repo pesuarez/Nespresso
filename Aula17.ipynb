{
 "cells": [
  {
   "cell_type": "code",
   "execution_count": 11,
   "metadata": {
    "collapsed": true
   },
   "outputs": [],
   "source": [
    "%matplotlib inline\n",
    "\n",
    "import os\n",
    "import matplotlib.pyplot as plt\n",
    "import pandas as pd\n",
    "import numpy as np\n",
    "from scipy import stats\n",
    "from scipy import stats\n",
    "\n",
    "%matplotlib inline\n",
    "\n",
    "import os\n",
    "import matplotlib.pyplot as plt\n",
    "import pandas as pd\n",
    "from scipy import stats\n",
    "from numpy import mean, var, arange\n",
    "import numpy as np\n",
    "from scipy import stats\n",
    "import matplotlib.pyplot as plt\n",
    "from scipy.stats import expon\n",
    "import math\n"
   ]
  },
  {
   "cell_type": "code",
   "execution_count": 12,
   "metadata": {
    "collapsed": true
   },
   "outputs": [],
   "source": [
    "R = [1032,1022,1042,1045,1021,1033,1015,1035,1003,1064,1044,1049,1016]"
   ]
  },
  {
   "cell_type": "code",
   "execution_count": 14,
   "metadata": {},
   "outputs": [
    {
     "name": "stdout",
     "output_type": "stream",
     "text": [
      "A media corresponde a 1032.3846153846155\n",
      "O desvio padrão corresponde a 128.50295857988164\n"
     ]
    }
   ],
   "source": [
    "media=np.mean(R)\n",
    "soma=0\n",
    "for e in R:\n",
    "    variancia=((e-media)**2)*1/len(R)\n",
    "    soma+=variancia\n",
    "    \n",
    "sigma=soma**1/2\n",
    "print('A media corresponde a {}'.format(media))\n",
    "print('O desvio padrão corresponde a {}'.format(sigma))"
   ]
  },
  {
   "cell_type": "code",
   "execution_count": 15,
   "metadata": {},
   "outputs": [
    {
     "name": "stdout",
     "output_type": "stream",
     "text": [
      "A media teorica corresponde a 1000\n",
      "O desvio padrão teorico corresponde a 13.867504905630728\n"
     ]
    }
   ],
   "source": [
    "media=media\n",
    "despa=sigma\n",
    "\n",
    "media_t=1000\n",
    "despa_t=50/(13**(1/2))\n",
    "\n",
    "a = media_t+1.75*despa_t\n",
    "\n",
    "\n",
    "print('A media teorica corresponde a {}'.format(media_t))\n",
    "print('O desvio padrão teorico corresponde a {}'.format(despa_t))\n"
   ]
  },
  {
   "cell_type": "code",
   "execution_count": 24,
   "metadata": {},
   "outputs": [
    {
     "name": "stdout",
     "output_type": "stream",
     "text": [
      "A porcentagem corresponde a 95.9940843136183% do total da distribuição\n"
     ]
    }
   ],
   "source": [
    "porct=((stats.norm.cdf(a, loc=media_t, scale=despa_t))*100)\n",
    "print('A porcentagem corresponde a {}% do total da distribuição'.format(porct))\n"
   ]
  },
  {
   "cell_type": "code",
   "execution_count": 25,
   "metadata": {},
   "outputs": [
    {
     "name": "stdout",
     "output_type": "stream",
     "text": [
      "A média esta a 2.3352877983732006 sigmas afastado da média teórica\n"
     ]
    }
   ],
   "source": [
    "sigmas=(media-media_t)/despa_t\n",
    "print('A média esta a {} sigmas afastado da média teórica'.format(sigmas))"
   ]
  },
  {
   "cell_type": "code",
   "execution_count": null,
   "metadata": {
    "collapsed": true
   },
   "outputs": [],
   "source": []
  }
 ],
 "metadata": {
  "kernelspec": {
   "display_name": "Python 3",
   "language": "python",
   "name": "python3"
  },
  "language_info": {
   "codemirror_mode": {
    "name": "ipython",
    "version": 3
   },
   "file_extension": ".py",
   "mimetype": "text/x-python",
   "name": "python",
   "nbconvert_exporter": "python",
   "pygments_lexer": "ipython3",
   "version": "3.6.0"
  }
 },
 "nbformat": 4,
 "nbformat_minor": 1
}
